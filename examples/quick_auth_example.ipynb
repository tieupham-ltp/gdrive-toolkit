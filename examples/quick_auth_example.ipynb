{
 "cells": [
  {
   "cell_type": "markdown",
   "id": "d6174e07",
   "metadata": {},
   "source": [
    "# gdrive-toolkit - Quick Authentication Example\n",
    "\n",
    "This notebook demonstrates how to quickly authenticate and use gdrive-toolkit in different environments."
   ]
  },
  {
   "cell_type": "markdown",
   "id": "edf99101",
   "metadata": {},
   "source": [
    "## 1. Installation\n",
    "\n",
    "First, install gdrive-toolkit (run this cell only once)"
   ]
  },
  {
   "cell_type": "code",
   "execution_count": null,
   "id": "f70c755b",
   "metadata": {},
   "outputs": [],
   "source": [
    "# Install gdrive-toolkit\n",
    "!pip install git+https://github.com/yourusername/gdrive-toolkit.git"
   ]
  },
  {
   "cell_type": "markdown",
   "id": "50e1d80d",
   "metadata": {},
   "source": [
    "## 2. Quick Connect\n",
    "\n",
    "The `quick_connect()` function automatically detects your environment (Colab, Kaggle, or local) and authenticates accordingly."
   ]
  },
  {
   "cell_type": "code",
   "execution_count": null,
   "id": "a535fa36",
   "metadata": {},
   "outputs": [],
   "source": [
    "from gdrive_toolkit import quick_connect\n",
    "\n",
    "# Auto-detect environment and authenticate\n",
    "drive = quick_connect()\n",
    "\n",
    "print(\"\\n✅ Successfully connected to Google Drive!\")"
   ]
  },
  {
   "cell_type": "markdown",
   "id": "ca42ef57",
   "metadata": {},
   "source": [
    "## 3. Upload a File\n",
    "\n",
    "Let's create a test file and upload it to Google Drive."
   ]
  },
  {
   "cell_type": "code",
   "execution_count": null,
   "id": "5bc47ec1",
   "metadata": {},
   "outputs": [],
   "source": [
    "# Create a test file\n",
    "with open('test_notebook.txt', 'w') as f:\n",
    "    f.write('Hello from Jupyter Notebook!\\n')\n",
    "    f.write('This file was created and uploaded using gdrive-toolkit.')\n",
    "\n",
    "print(\"✓ Test file created\")"
   ]
  },
  {
   "cell_type": "code",
   "execution_count": null,
   "id": "ad3acf28",
   "metadata": {},
   "outputs": [],
   "source": [
    "from gdrive_toolkit import upload_file\n",
    "\n",
    "# Upload the file\n",
    "file_id = upload_file(drive, 'test_notebook.txt')\n",
    "\n",
    "print(f\"\\n✅ File uploaded! ID: {file_id}\")"
   ]
  },
  {
   "cell_type": "markdown",
   "id": "444ac569",
   "metadata": {},
   "source": [
    "## 4. Search Files\n",
    "\n",
    "Search for files in your Google Drive."
   ]
  },
  {
   "cell_type": "code",
   "execution_count": null,
   "id": "0b4ae4b1",
   "metadata": {},
   "outputs": [],
   "source": [
    "from gdrive_toolkit import search_files, print_file_list\n",
    "\n",
    "# Search for files\n",
    "files = search_files(drive, file_name='test', max_results=10)\n",
    "\n",
    "# Pretty print results\n",
    "print_file_list(files)"
   ]
  },
  {
   "cell_type": "markdown",
   "id": "53233aad",
   "metadata": {},
   "source": [
    "## 5. Download a File\n",
    "\n",
    "Download a file from Google Drive."
   ]
  },
  {
   "cell_type": "code",
   "execution_count": null,
   "id": "5bd527a0",
   "metadata": {},
   "outputs": [],
   "source": [
    "from gdrive_toolkit import download_file\n",
    "\n",
    "# Download the file we just uploaded\n",
    "downloaded_path = download_file(drive, file_id=file_id, save_path='downloaded_test.txt')\n",
    "\n",
    "# Read and display content\n",
    "with open(downloaded_path, 'r') as f:\n",
    "    content = f.read()\n",
    "    print(\"\\nDownloaded file content:\")\n",
    "    print(content)"
   ]
  },
  {
   "cell_type": "markdown",
   "id": "298d6c47",
   "metadata": {},
   "source": [
    "## 6. Create a Folder\n",
    "\n",
    "Create folders to organize your files."
   ]
  },
  {
   "cell_type": "code",
   "execution_count": null,
   "id": "46c250b7",
   "metadata": {},
   "outputs": [],
   "source": [
    "from gdrive_toolkit import create_folder, create_folder_path\n",
    "\n",
    "# Create a single folder\n",
    "folder_id = create_folder(drive, 'Notebook Demo')\n",
    "\n",
    "# Create nested folders\n",
    "nested_folder_id = create_folder_path(drive, 'Projects/2025/ML Experiments')\n",
    "\n",
    "print(f\"\\n✅ Folders created!\")"
   ]
  },
  {
   "cell_type": "markdown",
   "id": "2eb0baef",
   "metadata": {},
   "source": [
    "## 7. Upload to Folder\n",
    "\n",
    "Upload a file to a specific folder."
   ]
  },
  {
   "cell_type": "code",
   "execution_count": null,
   "id": "0a5751e9",
   "metadata": {},
   "outputs": [],
   "source": [
    "# Create another test file\n",
    "with open('experiment_results.txt', 'w') as f:\n",
    "    f.write('Experiment Results:\\n')\n",
    "    f.write('Accuracy: 95.3%\\n')\n",
    "    f.write('Loss: 0.045\\n')\n",
    "\n",
    "# Upload to the nested folder\n",
    "result_file_id = upload_file(drive, 'experiment_results.txt', folder_id=nested_folder_id)\n",
    "\n",
    "print(f\"\\n✅ Results uploaded to nested folder!\")"
   ]
  },
  {
   "cell_type": "markdown",
   "id": "94404492",
   "metadata": {},
   "source": [
    "## 8. Share a File\n",
    "\n",
    "Generate a shareable link for your file."
   ]
  },
  {
   "cell_type": "code",
   "execution_count": null,
   "id": "f51dbf98",
   "metadata": {},
   "outputs": [],
   "source": [
    "from gdrive_toolkit import share_file\n",
    "\n",
    "# Get shareable link\n",
    "link = share_file(drive, result_file_id, permission='reader')\n",
    "\n",
    "print(f\"\\n🔗 Shareable link:\")\n",
    "print(link)"
   ]
  },
  {
   "cell_type": "markdown",
   "id": "abbf0f18",
   "metadata": {},
   "source": [
    "## 9. Batch Operations\n",
    "\n",
    "Upload or download multiple files at once."
   ]
  },
  {
   "cell_type": "code",
   "execution_count": null,
   "id": "c68ef655",
   "metadata": {},
   "outputs": [],
   "source": [
    "from gdrive_toolkit import batch_upload\n",
    "\n",
    "# Create multiple test files\n",
    "test_files = []\n",
    "for i in range(1, 6):\n",
    "    filename = f'batch_file_{i}.txt'\n",
    "    with open(filename, 'w') as f:\n",
    "        f.write(f'This is batch file number {i}')\n",
    "    test_files.append(filename)\n",
    "\n",
    "# Batch upload\n",
    "file_ids = batch_upload(drive, test_files, folder_id=folder_id)\n",
    "\n",
    "print(f\"\\n✅ Uploaded {len(file_ids)} files!\")"
   ]
  },
  {
   "cell_type": "markdown",
   "id": "d9936154",
   "metadata": {},
   "source": [
    "## 10. Advanced Search\n",
    "\n",
    "Use advanced queries to find specific files."
   ]
  },
  {
   "cell_type": "code",
   "execution_count": null,
   "id": "3c1788c0",
   "metadata": {},
   "outputs": [],
   "source": [
    "# Search for text files\n",
    "text_files = search_files(drive, query=\"mimeType = 'text/plain'\", max_results=20)\n",
    "\n",
    "print(f\"Found {len(text_files)} text files:\")\n",
    "for f in text_files[:5]:  # Show first 5\n",
    "    print(f\"  - {f['title']}\")"
   ]
  },
  {
   "cell_type": "markdown",
   "id": "88eae368",
   "metadata": {},
   "source": [
    "## 11. Clean Up (Optional)\n",
    "\n",
    "Remove test files from your local directory."
   ]
  },
  {
   "cell_type": "code",
   "execution_count": null,
   "id": "7e86e94a",
   "metadata": {},
   "outputs": [],
   "source": [
    "import os\n",
    "\n",
    "# Remove local test files\n",
    "files_to_remove = [\n",
    "    'test_notebook.txt',\n",
    "    'downloaded_test.txt',\n",
    "    'experiment_results.txt'\n",
    "] + test_files\n",
    "\n",
    "for f in files_to_remove:\n",
    "    if os.path.exists(f):\n",
    "        os.remove(f)\n",
    "        print(f\"Removed: {f}\")\n",
    "\n",
    "print(\"\\n✅ Local cleanup complete!\")\n",
    "print(\"Note: Files are still on Google Drive\")"
   ]
  },
  {
   "cell_type": "markdown",
   "id": "32671519",
   "metadata": {},
   "source": [
    "## Summary\n",
    "\n",
    "You've learned how to:\n",
    "\n",
    "- ✅ Authenticate with `quick_connect()`\n",
    "- ✅ Upload files\n",
    "- ✅ Download files\n",
    "- ✅ Search files\n",
    "- ✅ Create folders\n",
    "- ✅ Share files\n",
    "- ✅ Batch operations\n",
    "- ✅ Advanced queries\n",
    "\n",
    "For more information, check out:\n",
    "- [API Reference](https://github.com/yourusername/gdrive-toolkit/blob/main/docs/API_REFERENCE.md)\n",
    "- [Examples](https://github.com/yourusername/gdrive-toolkit/tree/main/examples)\n",
    "- [Documentation](https://github.com/yourusername/gdrive-toolkit)"
   ]
  }
 ],
 "metadata": {
  "language_info": {
   "name": "python"
  }
 },
 "nbformat": 4,
 "nbformat_minor": 5
}
